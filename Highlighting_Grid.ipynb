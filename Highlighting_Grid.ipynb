{
 "cells": [
  {
   "cell_type": "markdown",
   "metadata": {},
   "source": [
    "#### Highlighting the Grid Structure of the table and changing its color to crimson red"
   ]
  },
  {
   "cell_type": "code",
   "execution_count": 2,
   "metadata": {},
   "outputs": [],
   "source": [
    "%matplotlib inline\n",
    "import cv2\n",
    "import numpy as np\n",
    "import matplotlib.pyplot as plt"
   ]
  },
  {
   "cell_type": "code",
   "execution_count": 3,
   "metadata": {},
   "outputs": [
    {
     "data": {
      "image/png": "[encoded data removed]",
      "text/plain": [
       "<Figure size 432x288 with 1 Axes>"
      ]
     },
     "metadata": {
      "needs_background": "light"
     },
     "output_type": "display_data"
    },
    {
     "name": "stdout",
     "output_type": "stream",
     "text": [
      "(750, 700, 3)\n"
     ]
    },
    {
     "data": {
      "text/plain": [
       "-1"
      ]
     },
     "execution_count": 3,
     "metadata": {},
     "output_type": "execute_result"
    }
   ],
   "source": [
    "#Highlighting the tablegrid by selecting the Region of Interest(ROI) and Probablistic Hough transform.\n",
    "img = cv2.imread('1.jpg')\n",
    "img = img[350:1100,0:700]\n",
    "gray = cv2.cvtColor(img, cv2.COLOR_BGR2GRAY)\n",
    "edges = cv2.Canny(gray, 50, 160, apertureSize=3)\n",
    "\n",
    "minLineLength =0\n",
    "maxLineGap = 2\n",
    "\n",
    "lines = cv2.HoughLinesP(edges, 1, np.pi / 180, 150, minLineLength, maxLineGap, 10)\n",
    "for line in lines:\n",
    "    for x1, y1, x2, y2 in line:\n",
    "        cv2.line(img, (x1, y1), (x2, y2), (153, 0, 0), 2)\n",
    "\n",
    "cv2.imwrite('houghlines.jpg', img)\n",
    "#cv2.imwrite('houghedge.jpg', edges)\n",
    "cv2.imshow(\"image\", edges)\n",
    "#cv2.imshow('img', img)\n",
    "plt.imshow(img)\n",
    "plt.show()\n",
    "cv2.waitKey(0)"
   ]
  },
  {
   "cell_type": "code",
   "execution_count": 11,
   "metadata": {},
   "outputs": [
    {
     "data": {
      "text/plain": [
       "-1"
      ]
     },
     "execution_count": 11,
     "metadata": {},
     "output_type": "execute_result"
    }
   ],
   "source": [
    "#Highlighting the table grid using Probablistic Hough transform \n",
    "img = cv2.imread('1.jpg')\n",
    "gray = cv2.cvtColor(img, cv2.COLOR_BGR2GRAY)\n",
    "edges = cv2.Canny(gray, 100, 160, apertureSize=3)\n",
    "\n",
    "minLineLength =300\n",
    "maxLineGap = 2\n",
    "lines = cv2.HoughLinesP(edges, 1, np.pi / 180, 300, minLineLength, maxLineGap, 10)\n",
    "for line in lines:\n",
    "    for x1, y1, x2, y2 in line:\n",
    "        cv2.line(img, (x1, y1), (x2, y2), (0, 0, 153), 2)\n",
    "\n",
    "\n",
    "cv2.imwrite('houghlines.jpg', img)\n",
    "cv2.imwrite('houghedge.jpg', edges)\n",
    "cv2.imshow(\"image\", edges)\n",
    "cv2.imshow('img', img)\n",
    "cv2.waitKey(0) "
   ]
  },
  {
   "cell_type": "code",
   "execution_count": null,
   "metadata": {},
   "outputs": [],
   "source": []
  }
 ],
 "metadata": {
  "kernelspec": {
   "display_name": "Python 3",
   "language": "python",
   "name": "python3"
  },
  "language_info": {
   "codemirror_mode": {
    "name": "ipython",
    "version": 3
   },
   "file_extension": ".py",
   "mimetype": "text/x-python",
   "name": "python",
   "nbconvert_exporter": "python",
   "pygments_lexer": "ipython3",
   "version": "3.7.4"
  }
 },
 "nbformat": 4,
 "nbformat_minor": 2
}
