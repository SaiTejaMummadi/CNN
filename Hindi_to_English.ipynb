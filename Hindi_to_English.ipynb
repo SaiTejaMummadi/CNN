{
 "cells": [
  {
   "cell_type": "markdown",
   "metadata": {},
   "source": [
    "#### Text extraction from an image using Tesseract and Translation of the text to desired language using Google Translation."
   ]
  },
  {
   "cell_type": "code",
   "execution_count": 1,
   "metadata": {},
   "outputs": [],
   "source": [
    "#importing the necessary libraries\n",
    "#Dependencies pytesseract and googletrans (opensource)\n",
    "import cv2\n",
    "import pytesseract \n",
    "import os"
   ]
  },
  {
   "cell_type": "code",
   "execution_count": 3,
   "metadata": {},
   "outputs": [
    {
     "name": "stdout",
     "output_type": "stream",
     "text": [
      "ओरिजिनल कॉपी\n",
      "\n",
      "€छागा३ : ०३६०७१६३4१३7६३25 जज\n",
      "सकरूपमल पदमचन्द की मचा\n",
      "धान मंडी नागौर [राज] 3400 खूदखूडा खुडा\n",
      "\n",
      "[राज]\n",
      "\n",
      "टेलीफोन न: : 0582-240204\n",
      "\n",
      "मो.नम्बर: 9442-40204 655॥0\n",
      "\n",
      "बिलन. ४ €छा-2559 . दिनांक : ०2-०२-२०१४ प्लेस ऑफ़ सप्लाई: रिग्ुंग#७॥ग (08)\n",
      "क्र माल का विवरण अकबर. मात्रा. नगः. लिस्टमूल्य.. ८0७ ७७% 569 $6छा ६ कुहमूल्य (?)\n",
      "3. मधुसुदनधी।5किलो 04०७ 4.00. ७5. 5,430.00.. 6.00% ३.363.97. 6.00%  3,63.5. 20,720.00\n",
      "\n",
      "महायोग.. हैं... स.7२७०\n",
      "\n",
      "5०6 ७2% - 9,392.86 ८७ - 3, 63.57 565 <,63.57 70७) 59259,392.86 0657 763.57 5655763.57\n",
      "\n",
      "ए०ए९०९०5 ]७शा५ जा९ वा005ग6 52एश #प्तातारव /५शाए। जाए\n",
      "वास्ते सकरूपमल पदमचन्द\n",
      "\n",
      "प्राप्तकर्ता के हस्ताक्षर\n",
      "अधिकृत हस्ताक्षर\n"
     ]
    }
   ],
   "source": [
    "#setting up PATH for tesseract, to use tesseract we need to install tesseract in the computer\n",
    "pytesseract.pytesseract.tesseract_cmd = r\"C:\\Program Files\\Tesseract-OCR\\tesseract.exe\"\n",
    "\n",
    "#Reading the Image\n",
    "img2=cv2.imread('4.jpg')\n",
    "\n",
    "#Extracting text using Tesseract \n",
    "output = pytesseract.image_to_string(img2, lang='hin')\n",
    "print(output)"
   ]
  },
  {
   "cell_type": "code",
   "execution_count": 11,
   "metadata": {},
   "outputs": [],
   "source": [
    "#Importing translator\n",
    "from googletrans import Translator\n",
    "translator = Translator()\n",
    "\n",
    "#Translating the output into English\n",
    "translated = translator.translate(output)"
   ]
  },
  {
   "cell_type": "code",
   "execution_count": 14,
   "metadata": {},
   "outputs": [
    {
     "name": "stdout",
     "output_type": "stream",
     "text": [
      "Original Copy\n",
      "\n",
      "€ Chhaga 3: 0360716341376325 judge\n",
      "Making the Skrupml Pdmchand\n",
      "Paddy market Nagaur [rule] 3400 Kudkuda Khuda\n",
      "\n",
      "[secret]\n",
      "\n",
      "Telephone: 0582-240204\n",
      "\n",
      "Moknmber: 9442-40204 655.0\n",
      "\n",
      "Billing. 4 € enveloped -2559. Date: 02-02-2014 Place of supply: Rigung # 7kg (08)\n",
      "Details Akbar S. goods. Volume. Ngः. Listmuly .. 807 77% 569 $ 6 students 6 Kuhmuly (?)\n",
      "3. Mdhusudndhi 0.5 kg 0407 4.00. 75. 5430.00 .. 6.00% 3.363.97. 3,63k5 6.00%. 20720.00\n",
      "\n",
      "Grand .. are ... Number 0.7270\n",
      "\n",
      "506 72% - 9392.86 87 - 3 63.57 565 <, 63.57 707) 59259,392.86 0657 763.57 5655763.57\n",
      "\n",
      "A0 A9 0 9 05] 7 Sha 5 Ja9 or 005 c 6 52 ash # Ptatarv / 5 Shaa. Things\n",
      "In order Skrupml Pdmchand\n",
      "\n",
      "The recipient's signature\n",
      "Authorized Signature\n"
     ]
    },
    {
     "data": {
      "text/plain": [
       "str"
      ]
     },
     "execution_count": 14,
     "metadata": {},
     "output_type": "execute_result"
    }
   ],
   "source": [
    "print(translated.text)"
   ]
  },
  {
   "cell_type": "code",
   "execution_count": 17,
   "metadata": {},
   "outputs": [],
   "source": [
    "#Saving the Translated File into a Text file\n",
    "\n",
    "text_file = open(\"translated.txt\", \"w\", encoding=\"utf-8\")\n",
    "text_file.write(translated.text)\n",
    "text_file.close()"
   ]
  }
 ],
 "metadata": {
  "kernelspec": {
   "display_name": "Python 3",
   "language": "python",
   "name": "python3"
  },
  "language_info": {
   "codemirror_mode": {
    "name": "ipython",
    "version": 3
   },
   "file_extension": ".py",
   "mimetype": "text/x-python",
   "name": "python",
   "nbconvert_exporter": "python",
   "pygments_lexer": "ipython3",
   "version": "3.7.4"
  }
 },
 "nbformat": 4,
 "nbformat_minor": 2
}
